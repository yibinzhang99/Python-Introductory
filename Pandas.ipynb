{
  "nbformat": 4,
  "nbformat_minor": 0,
  "metadata": {
    "colab": {
      "provenance": []
    },
    "kernelspec": {
      "name": "python3",
      "display_name": "Python 3"
    },
    "language_info": {
      "name": "python"
    }
  },
  "cells": [
    {
      "cell_type": "code",
      "execution_count": 1,
      "metadata": {
        "id": "MFc0BoVDHGW-"
      },
      "outputs": [],
      "source": [
        "import pandas as pd\n",
        "import numpy as np"
      ]
    },
    {
      "cell_type": "markdown",
      "source": [
        "**Querying a Series**\n",
        "- `iloc[]`, `loc[]`"
      ],
      "metadata": {
        "id": "k2PSYA3NHQ5k"
      }
    },
    {
      "cell_type": "code",
      "source": [
        "students_class = {'Alice':'Physics',\n",
        "                  'Jack':'Chemistry',\n",
        "                  'Molly': 'English',\n",
        "                  'Sam':'History'}\n",
        "s = pd.Series(students_class)\n",
        "s"
      ],
      "metadata": {
        "colab": {
          "base_uri": "https://localhost:8080/"
        },
        "id": "XkapNOGzHOc3",
        "outputId": "f0209b80-30b8-4341-bec6-11aebae1d0d0"
      },
      "execution_count": 2,
      "outputs": [
        {
          "output_type": "execute_result",
          "data": {
            "text/plain": [
              "Alice      Physics\n",
              "Jack     Chemistry\n",
              "Molly      English\n",
              "Sam        History\n",
              "dtype: object"
            ]
          },
          "metadata": {},
          "execution_count": 2
        }
      ]
    },
    {
      "cell_type": "markdown",
      "source": [
        "**Ways to get data out of the series**\n",
        "\n",
        "To see the fourth entry, we can use `iloc`"
      ],
      "metadata": {
        "id": "JC0jssxZHy-U"
      }
    },
    {
      "cell_type": "code",
      "source": [
        "s.iloc[3], s[3]"
      ],
      "metadata": {
        "colab": {
          "base_uri": "https://localhost:8080/"
        },
        "id": "3AZK7JTFHvt7",
        "outputId": "3c4ab90e-debf-4d1c-fab4-148a2b1c0dde"
      },
      "execution_count": 3,
      "outputs": [
        {
          "output_type": "execute_result",
          "data": {
            "text/plain": [
              "('History', 'History')"
            ]
          },
          "metadata": {},
          "execution_count": 3
        }
      ]
    },
    {
      "cell_type": "code",
      "source": [
        "s.loc['Molly'], s['Molly']"
      ],
      "metadata": {
        "colab": {
          "base_uri": "https://localhost:8080/"
        },
        "id": "SlrP63JKH4ja",
        "outputId": "13a95bbd-5a9c-433b-d394-e92a92e30859"
      },
      "execution_count": 4,
      "outputs": [
        {
          "output_type": "execute_result",
          "data": {
            "text/plain": [
              "('English', 'English')"
            ]
          },
          "metadata": {},
          "execution_count": 4
        }
      ]
    },
    {
      "cell_type": "code",
      "source": [
        "class_code = {99: 'Physics',\n",
        "              100: 'Chemistry',\n",
        "              101: 'English',\n",
        "              102: 'History'}\n",
        "s = pd.Series(class_code)"
      ],
      "metadata": {
        "id": "UA9UMwa9IC13"
      },
      "execution_count": 5,
      "outputs": []
    },
    {
      "cell_type": "code",
      "source": [
        "s.iloc[0]"
      ],
      "metadata": {
        "colab": {
          "base_uri": "https://localhost:8080/",
          "height": 35
        },
        "id": "hhPvPXX9IixJ",
        "outputId": "67842e58-4ef4-49c2-a555-b3c89a55eebc"
      },
      "execution_count": 6,
      "outputs": [
        {
          "output_type": "execute_result",
          "data": {
            "text/plain": [
              "'Physics'"
            ],
            "application/vnd.google.colaboratory.intrinsic+json": {
              "type": "string"
            }
          },
          "metadata": {},
          "execution_count": 6
        }
      ]
    },
    {
      "cell_type": "markdown",
      "source": [
        "A typical programmatic approach to iterate over all the items in the series and invoke the operation one is intrested in. For instance, we could create a series of integers represneting student grades, and just try and get an average grade."
      ],
      "metadata": {
        "id": "oCgmXW40JM-e"
      }
    },
    {
      "cell_type": "code",
      "source": [
        "# Approach 1\n",
        "grades = pd.Series([90,80,70,60])\n",
        "\n",
        "total = 0\n",
        "for grade in grades:\n",
        "  total += grade\n",
        "print(total/len(grades))\n"
      ],
      "metadata": {
        "colab": {
          "base_uri": "https://localhost:8080/"
        },
        "id": "iKy-AnHlIreB",
        "outputId": "5b661c78-fba1-4590-c0c0-b8dad519b42d"
      },
      "execution_count": 7,
      "outputs": [
        {
          "output_type": "stream",
          "name": "stdout",
          "text": [
            "75.0\n"
          ]
        }
      ]
    },
    {
      "cell_type": "code",
      "source": [
        "# Approach 2\n",
        "total = np.sum(grades)\n",
        "print(total/len(grades))"
      ],
      "metadata": {
        "colab": {
          "base_uri": "https://localhost:8080/"
        },
        "id": "K8ocgEclJkhq",
        "outputId": "6f46ab4e-362a-43fa-b897-912b3e8f15d6"
      },
      "execution_count": 8,
      "outputs": [
        {
          "output_type": "stream",
          "name": "stdout",
          "text": [
            "75.0\n"
          ]
        }
      ]
    },
    {
      "cell_type": "code",
      "source": [],
      "metadata": {
        "id": "oUi3KUglLV54"
      },
      "execution_count": 8,
      "outputs": []
    },
    {
      "cell_type": "markdown",
      "source": [
        "Example"
      ],
      "metadata": {
        "id": "cr6TQzajLVSP"
      }
    },
    {
      "cell_type": "code",
      "source": [
        "numbers = pd.Series(np.random.randint(0,1000,10000))\n",
        "numbers.head(), len(numbers)"
      ],
      "metadata": {
        "colab": {
          "base_uri": "https://localhost:8080/"
        },
        "id": "QVC4dX5cJ-HD",
        "outputId": "32bcfb56-9148-4d69-c00b-94d0b31becea"
      },
      "execution_count": 9,
      "outputs": [
        {
          "output_type": "execute_result",
          "data": {
            "text/plain": [
              "(0    207\n",
              " 1    601\n",
              " 2    766\n",
              " 3    392\n",
              " 4    774\n",
              " dtype: int64, 10000)"
            ]
          },
          "metadata": {},
          "execution_count": 9
        }
      ]
    },
    {
      "cell_type": "code",
      "source": [
        "%%timeit -n 100\n",
        "total = 0\n",
        "for number in numbers:\n",
        "  total += number\n",
        "\n",
        "total/len(grades)"
      ],
      "metadata": {
        "colab": {
          "base_uri": "https://localhost:8080/"
        },
        "id": "brDPF3hmLILZ",
        "outputId": "909d0fbf-6711-4ecb-877e-fd654d590f9a"
      },
      "execution_count": 10,
      "outputs": [
        {
          "output_type": "stream",
          "name": "stdout",
          "text": [
            "1.68 ms ± 470 µs per loop (mean ± std. dev. of 7 runs, 100 loops each)\n"
          ]
        }
      ]
    },
    {
      "cell_type": "code",
      "source": [
        "%%timeit -n 100\n",
        "total = 0\n",
        "total = np.sum(numbers)\n",
        "total/len(numbers)"
      ],
      "metadata": {
        "colab": {
          "base_uri": "https://localhost:8080/"
        },
        "id": "NhpeURKfLNMO",
        "outputId": "127783cc-5e95-4d14-ce0c-4f97c269ea29"
      },
      "execution_count": 11,
      "outputs": [
        {
          "output_type": "stream",
          "name": "stdout",
          "text": [
            "70 µs ± 15.8 µs per loop (mean ± std. dev. of 7 runs, 100 loops each)\n"
          ]
        }
      ]
    },
    {
      "cell_type": "markdown",
      "source": [
        "Here, we can find that the second approach can process much faster."
      ],
      "metadata": {
        "id": "54KM0I8VL_qw"
      }
    },
    {
      "cell_type": "code",
      "source": [
        "print(numbers.head())\n",
        "numbers += 2\n",
        "print(numbers.head())"
      ],
      "metadata": {
        "colab": {
          "base_uri": "https://localhost:8080/"
        },
        "id": "Lz166h_PL8aY",
        "outputId": "d958743f-7831-40c8-dea2-c1c1bc277574"
      },
      "execution_count": 12,
      "outputs": [
        {
          "output_type": "stream",
          "name": "stdout",
          "text": [
            "0    207\n",
            "1    601\n",
            "2    766\n",
            "3    392\n",
            "4    774\n",
            "dtype: int64\n",
            "0    209\n",
            "1    603\n",
            "2    768\n",
            "3    394\n",
            "4    776\n",
            "dtype: int64\n"
          ]
        }
      ]
    },
    {
      "cell_type": "markdown",
      "source": [
        "**`iteritmes()`**: \n",
        "iterate through all of the items in the series"
      ],
      "metadata": {
        "id": "F3s66IWvMUNU"
      }
    },
    {
      "cell_type": "code",
      "source": [
        "# For the updated version, `set_value` has changed to `_set_value\n",
        "for label, value in numbers.iteritems():\n",
        "  # noe for hte item which is returned, lets call set_value()\n",
        "  numbers._set_value(label, value+2)\n",
        "\n",
        "numbers.head()"
      ],
      "metadata": {
        "colab": {
          "base_uri": "https://localhost:8080/"
        },
        "id": "XK_r-MVFMQiw",
        "outputId": "5eca8aa5-6917-43e7-8b25-73f614e31321"
      },
      "execution_count": 13,
      "outputs": [
        {
          "output_type": "execute_result",
          "data": {
            "text/plain": [
              "0    211\n",
              "1    605\n",
              "2    770\n",
              "3    396\n",
              "4    778\n",
              "dtype: int64"
            ]
          },
          "metadata": {},
          "execution_count": 13
        }
      ]
    },
    {
      "cell_type": "code",
      "source": [
        " #%%timeit -n 10\n",
        " #s = pd.Series(np.random.randint(0,1000,10000))\n",
        " \n",
        " #for label, value in s.iteritems():\n",
        " #  s.loc[label] = value + 2"
      ],
      "metadata": {
        "id": "FtpsZyRLM4Il"
      },
      "execution_count": 15,
      "outputs": []
    },
    {
      "cell_type": "code",
      "source": [],
      "metadata": {
        "id": "q82H8zaqOaVN"
      },
      "execution_count": null,
      "outputs": []
    }
  ]
}