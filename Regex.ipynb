{
 "cells": [
  {
   "cell_type": "markdown",
   "id": "cd710970",
   "metadata": {},
   "source": [
    "### Manipulating Text wiht Regualr Expression (regex)\n",
    "- `match()` checks for a match that is at the beginning of the string and returns a boolean.\n",
    "- `search()` checks for a match anywhere in hte string and returns a boolean.\n",
    "- `findall()`,`split()`: In addition to chekcing for conditions, we can segment a stirng. It is called `tokenizing`, where the string is separated into substrings based on patterns.\n",
    "- anchors specifies hte start/end of the string that you are trying to match. `^` means start, dollar sign means end."
   ]
  },
  {
   "cell_type": "code",
   "execution_count": 1,
   "id": "7695228c",
   "metadata": {},
   "outputs": [],
   "source": [
    "import re"
   ]
  },
  {
   "cell_type": "code",
   "execution_count": 2,
   "id": "0966ee89",
   "metadata": {},
   "outputs": [
    {
     "name": "stdout",
     "output_type": "stream",
     "text": [
      "Wonderful!\n"
     ]
    }
   ],
   "source": [
    "text = \"This is a good Day.\"\n",
    "\n",
    "# check if it's a good day or not\n",
    "if re.search(\"good\",text):\n",
    "    print(\"Wonderful!\")\n",
    "else:\n",
    "    print(\"Alas\")"
   ]
  },
  {
   "cell_type": "code",
   "execution_count": 3,
   "id": "355c6a2c",
   "metadata": {},
   "outputs": [
    {
     "data": {
      "text/plain": [
       "['',\n",
       " ' works diligently. ',\n",
       " ' gets good grades. Our student ',\n",
       " ' is successful.']"
      ]
     },
     "execution_count": 3,
     "metadata": {},
     "output_type": "execute_result"
    }
   ],
   "source": [
    "text = \"Amy works diligently. Amy gets good grades. Our student Amy is successful.\"\n",
    "\n",
    "re.split(\"Amy\", text)"
   ]
  },
  {
   "cell_type": "code",
   "execution_count": 4,
   "id": "dd1adf81",
   "metadata": {},
   "outputs": [
    {
     "data": {
      "text/plain": [
       "['Amy', 'Amy', 'Amy']"
      ]
     },
     "execution_count": 4,
     "metadata": {},
     "output_type": "execute_result"
    }
   ],
   "source": [
    "re.findall(\"Amy\", text)"
   ]
  },
  {
   "cell_type": "code",
   "execution_count": 5,
   "id": "1b294c3d",
   "metadata": {},
   "outputs": [
    {
     "data": {
      "text/plain": [
       "<re.Match object; span=(0, 3), match='Amy'>"
      ]
     },
     "execution_count": 5,
     "metadata": {},
     "output_type": "execute_result"
    }
   ],
   "source": [
    "text = \"Amy works diligently. Amy gets good grades. Our student Amy is successful.\"\n",
    "\n",
    "# check whether it starts with \"Amy\"\n",
    "re.search(\"^Amy\",text)"
   ]
  },
  {
   "cell_type": "markdown",
   "id": "33d9d4b9",
   "metadata": {},
   "source": [
    " ### Patterns and Character Classes"
   ]
  },
  {
   "cell_type": "code",
   "execution_count": 15,
   "id": "1d6ba395",
   "metadata": {},
   "outputs": [],
   "source": [
    "grades = \"ACAABBCAAA\""
   ]
  },
  {
   "cell_type": "code",
   "execution_count": 8,
   "id": "b5465c7a",
   "metadata": {},
   "outputs": [
    {
     "data": {
      "text/plain": [
       "['B', 'B']"
      ]
     },
     "execution_count": 8,
     "metadata": {},
     "output_type": "execute_result"
    }
   ],
   "source": [
    "re.findall(\"B\",grades)"
   ]
  },
  {
   "cell_type": "code",
   "execution_count": 9,
   "id": "7336d342",
   "metadata": {},
   "outputs": [
    {
     "data": {
      "text/plain": [
       "['A', 'A', 'A', 'B', 'B']"
      ]
     },
     "execution_count": 9,
     "metadata": {},
     "output_type": "execute_result"
    }
   ],
   "source": [
    "# set operator\n",
    "re.findall(\"[AB]\",grades)"
   ]
  },
  {
   "cell_type": "code",
   "execution_count": 10,
   "id": "cb3f6838",
   "metadata": {},
   "outputs": [
    {
     "data": {
      "text/plain": [
       "['A', 'C', 'A', 'A', 'B', 'B', 'C']"
      ]
     },
     "execution_count": 10,
     "metadata": {},
     "output_type": "execute_result"
    }
   ],
   "source": [
    "# rnage operator\n",
    "re.findall(\"[A-C]\",grades)"
   ]
  },
  {
   "cell_type": "code",
   "execution_count": 11,
   "id": "222cd5e7",
   "metadata": {},
   "outputs": [
    {
     "data": {
      "text/plain": [
       "['AC', 'AB']"
      ]
     },
     "execution_count": 11,
     "metadata": {},
     "output_type": "execute_result"
    }
   ],
   "source": [
    "re.findall(\"[A][B-C]\",grades)"
   ]
  },
  {
   "cell_type": "code",
   "execution_count": 12,
   "id": "b4305bbd",
   "metadata": {},
   "outputs": [
    {
     "data": {
      "text/plain": [
       "['AC', 'AB']"
      ]
     },
     "execution_count": 12,
     "metadata": {},
     "output_type": "execute_result"
    }
   ],
   "source": [
    "re.findall(\"AB|AC\",grades)"
   ]
  },
  {
   "cell_type": "code",
   "execution_count": 13,
   "id": "e1905007",
   "metadata": {},
   "outputs": [
    {
     "data": {
      "text/plain": [
       "['C', 'B', 'B', 'C']"
      ]
     },
     "execution_count": 13,
     "metadata": {},
     "output_type": "execute_result"
    }
   ],
   "source": [
    "# we can use \"negate - ^\"\n",
    "re.findall(\"[^A]\",grades)"
   ]
  },
  {
   "cell_type": "markdown",
   "id": "1af065d7",
   "metadata": {},
   "source": [
    "### Quantifiers\n",
    "- Quantifiers are hte numebr of times people want a pattern to be matched in order to match.\n",
    "- The most basic quantifier is expressed as e{m,n}, where `e` is the expression or character we are matching, `m` is the minimum number of times you want it to matched, `n` is the maximum number of times."
   ]
  },
  {
   "cell_type": "code",
   "execution_count": 16,
   "id": "f94145dd",
   "metadata": {},
   "outputs": [
    {
     "data": {
      "text/plain": [
       "['AA', 'AAA']"
      ]
     },
     "execution_count": 16,
     "metadata": {},
     "output_type": "execute_result"
    }
   ],
   "source": [
    "re.findall(\"A{2,10}\", grades)"
   ]
  },
  {
   "cell_type": "code",
   "execution_count": 19,
   "id": "c76d5f6a",
   "metadata": {},
   "outputs": [
    {
     "data": {
      "text/plain": [
       "['AA', 'AA']"
      ]
     },
     "execution_count": 19,
     "metadata": {},
     "output_type": "execute_result"
    }
   ],
   "source": [
    "re.findall(\"A{1,1}A{1,1}\", grades)"
   ]
  },
  {
   "cell_type": "code",
   "execution_count": null,
   "id": "d6aef1b3",
   "metadata": {},
   "outputs": [],
   "source": []
  }
 ],
 "metadata": {
  "kernelspec": {
   "display_name": "Python 3 (ipykernel)",
   "language": "python",
   "name": "python3"
  },
  "language_info": {
   "codemirror_mode": {
    "name": "ipython",
    "version": 3
   },
   "file_extension": ".py",
   "mimetype": "text/x-python",
   "name": "python",
   "nbconvert_exporter": "python",
   "pygments_lexer": "ipython3",
   "version": "3.8.8"
  }
 },
 "nbformat": 4,
 "nbformat_minor": 5
}
